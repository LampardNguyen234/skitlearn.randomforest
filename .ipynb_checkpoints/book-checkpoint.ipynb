{
 "cells": [
  {
   "cell_type": "code",
   "execution_count": 2,
   "metadata": {},
   "outputs": [
    {
     "name": "stderr",
     "output_type": "stream",
     "text": [
      "C:\\Users\\pc\\Anaconda3\\lib\\site-packages\\sklearn\\cross_validation.py:41: DeprecationWarning: This module was deprecated in version 0.18 in favor of the model_selection module into which all the refactored classes and functions are moved. Also note that the interface of the new CV iterators are different from that of this module. This module will be removed in 0.20.\n",
      "  \"This module will be removed in 0.20.\", DeprecationWarning)\n",
      "C:\\Users\\pc\\Anaconda3\\lib\\site-packages\\sklearn\\grid_search.py:42: DeprecationWarning: This module was deprecated in version 0.18 in favor of the model_selection module into which all the refactored classes and functions are moved. This module will be removed in 0.20.\n",
      "  DeprecationWarning)\n"
     ]
    }
   ],
   "source": [
    "import os\n",
    "import pandas as pd\n",
    "import numpy as np\n",
    "import matplotlib.pyplot as plt\n",
    "from sklearn.model_selection import train_test_split\n",
    "from sklearn.preprocessing import MinMaxScaler\n",
    "from sklearn.ensemble import RandomForestClassifier\n",
    "from sklearn.grid_search import GridSearchCV"
   ]
  },
  {
   "cell_type": "code",
   "execution_count": 3,
   "metadata": {
    "scrolled": true
   },
   "outputs": [],
   "source": [
    "#os.chdir(\"C:/Users/pc/Downloads/KHMT/HK4/AI.Assignment2/src/skitlearn.randomforest/\")\n",
    "#os.system(\"dir > test.txt\")\n",
    "#f = open(\"test.txt\", 'r')\n",
    "#t = f.read()\n",
    "#print(t)\n",
    "np.seterr(divide='ignore', invalid='ignore')\n",
    "# Initialize Classifier\n",
    "RandomForest = RandomForestClassifier(max_depth=5, n_estimators=10, max_features='sqrt')"
   ]
  },
  {
   "cell_type": "code",
   "execution_count": 4,
   "metadata": {},
   "outputs": [],
   "source": [
    "# ---------------------------------    \n",
    "# Block 1: Doc va xu ly so bo thong tin\n",
    "# Doc thong tin tu file csv\n",
    "df01=pd.read_csv('bank-additional/bank-additional-full.csv', sep=';',header=0)\n",
    "# Xoa cac hang chua thong tin trong\n",
    "df02=df01.dropna(axis=1, how='all')\n",
    "# Xoa cac cot chua thong tin trong\n",
    "df=df02.dropna(axis=0, how='any')\n",
    "# Kieu du lieu cua df\n",
    "cols=df.dtypes\n",
    "# Lay cac cot cua df\n",
    "colnms=df.columns\n",
    "# End Block 1\n",
    "# ---------------------------------"
   ]
  },
  {
   "cell_type": "code",
   "execution_count": 5,
   "metadata": {},
   "outputs": [],
   "source": [
    "# ---------------------------------\n",
    "# Block 2: Dem va lay ra cac cot co kieu 'object'\n",
    "# Bien dem so cot kieu object\n",
    "i=0\n",
    "# List luu lai cac cot kieu object\n",
    "cat_cols=[]\n",
    "# dem so cot thoa man va luu vao cat_cols\n",
    "for eachcol in cols:\n",
    "    if eachcol.name==\"object\":\n",
    "        cat_cols.append(colnms[i])\n",
    "    i+=1\n",
    "# End Block 2\n",
    "# ---------------------------------"
   ]
  },
  {
   "cell_type": "code",
   "execution_count": 6,
   "metadata": {},
   "outputs": [],
   "source": [
    "# ---------------------------------\n",
    "# Block 3: Tach ra thong tin khach hang va ket qua\n",
    "# Lay model moi cho du lieu\n",
    "df1=pd.get_dummies(df,columns=cat_cols)\n",
    "# So record\n",
    "n=len(df1.index)\n",
    "# So cot\n",
    "m=len(df1.columns)\n",
    "# Thong tin cua khach hang\n",
    "x_all=df1.iloc[:,0:(m-2)]\n",
    "# Khach hang co cho vay hay khong\n",
    "y_all=df1['y_yes']\n",
    "# End Block 3\n",
    "# ---------------------------------"
   ]
  },
  {
   "cell_type": "code",
   "execution_count": 7,
   "metadata": {},
   "outputs": [],
   "source": [
    "# ---------------------------------\n",
    "# Block 4: Scale lai du lieu cua tap train va tap test\n",
    "# Chia du lieu thanh 2 tap train va test\n",
    "x_trn, x_tst, y_trn, y_tst = train_test_split(x_all, y_all, test_size=0.8, random_state=42)\n",
    "# Tao class Scaler de chia ti le\n",
    "scaler = MinMaxScaler()\n",
    "# Tinh min va max cua data de chia ti le\n",
    "scaler.fit(x_trn)\n",
    "# Chia ti le lai cho tap train\n",
    "x_trn_n=scaler.transform(x_trn)\n",
    "# Chia ti le lai cho tap test\n",
    "x_tst_n=scaler.transform(x_tst)\n",
    "# End block 4\n",
    "# ---------------------------------"
   ]
  },
  {
   "cell_type": "code",
   "execution_count": 8,
   "metadata": {},
   "outputs": [
    {
     "name": "stdout",
     "output_type": "stream",
     "text": [
      "Random forest accuracy: 0.901%\n",
      "Top 10 important variables:\n",
      "               variable    weight\n",
      "0              duration  0.255049\n",
      "0                 pdays  0.174370\n",
      "0           nr.employed  0.173430\n",
      "0             euribor3m  0.089231\n",
      "0        cons.price.idx  0.064334\n",
      "0         cons.conf.idx  0.036973\n",
      "0      poutcome_failure  0.023153\n",
      "0  poutcome_nonexistent  0.022022\n",
      "0          emp.var.rate  0.021711\n",
      "0             month_mar  0.021064\n"
     ]
    }
   ],
   "source": [
    "# Block 5: Train Model, tim do chinh xac va tim cac bien co trong so cao\n",
    "# Chon kieu Random Forest\n",
    "clf=RandomForest\n",
    "# Xay dung Forest Tree tu Du lieu train: x_trn_n (data input) va y_trn_n (target output)\n",
    "model=clf.fit(x_trn_n,y_trn)\n",
    "# Tien doan gia tri cua mau du lieu test\n",
    "y_pred=model.predict(x_tst_n)\n",
    "# Tinh phan tram so record tien doan dung\n",
    "acc2=float((y_pred==y_tst).sum())/float(len(y_tst))\n",
    "# In ra do chinh xac cua Model\n",
    "print(\"Random forest accuracy: {0:.3f}%\".format(acc2))\n",
    "# Lay ra trong so cua cac bien\n",
    "imp=model.feature_importances_\n",
    "# Gan trong so cua cac bien voi ten bien (ten cac cot)\n",
    "var2imp=dict(zip(list(df1),imp))\n",
    "# Them tieu de cho bang va sap xep bang\n",
    "var2imp_sorted=pd.DataFrame(columns=['variable','weight'])\n",
    "# Sort du lieu trong bang theo tri tuyet doi cua ham weight\n",
    "for key in sorted(var2imp, key=lambda k:abs(var2imp[k]),reverse=True):\n",
    "    temp=pd.DataFrame([[key,var2imp[key]]],columns=['variable','weight'])\n",
    "    var2imp_sorted=var2imp_sorted.append(temp)\n",
    "# Lay ra 10 bien co tri tuyet doi cua ham weight lon nhat\n",
    "print(\"Top 10 important variables:\")\n",
    "print(var2imp_sorted[0:10])\n",
    "# End Block 5\n",
    "# ---------------------------------"
   ]
  },
  {
   "cell_type": "code",
   "execution_count": 9,
   "metadata": {
    "scrolled": false
   },
   "outputs": [
    {
     "data": {
      "image/png": "[encoded data removed]",
      "text/plain": [
       "<Figure size 864x432 with 1 Axes>"
      ]
     },
     "metadata": {},
     "output_type": "display_data"
    }
   ],
   "source": [
    "# ---------------------------------\n",
    "# Block 6: Ve bieu do trong so cua cac bien\n",
    "# Tach ten cac bien co trong so cao\n",
    "var_names=list(var2imp_sorted['variable'][0:10])\n",
    "# Tach trong so cua cac bien\n",
    "var_imp=list(var2imp_sorted['weight'][0:10])\n",
    "# Xep lai ten bien\n",
    "y_pos = np.arange(len(var_names),0,-1)\n",
    "# Tao bieu do\n",
    "fig = plt.figure(figsize=(12, 6))\n",
    "# Them bieu do con\n",
    "plt.subplot(1, 1, 1)\n",
    "# Set cac thuoc tinh cho bieu do\n",
    "plt.barh(y_pos, var_imp, align='center', alpha=0.5)\n",
    "# Gan nhan cac bien vao bieu do\n",
    "plt.yticks(y_pos, var_names)\n",
    "# Gan nhan cho trong so\n",
    "plt.xlabel('Weight')\n",
    "# Dat ten cho bieu do\n",
    "plt.title('Random Forest')\n",
    "# Chinh sua bieu do\n",
    "plt.ylim(0,11)\n",
    "# Chinh sua bieu do\n",
    "plt.tight_layout()\n",
    "# Save bieu do\n",
    "fig.savefig('plot.png',dpi=400)\n",
    "# End block 6\n",
    "# ---------------------------------"
   ]
  },
  {
   "cell_type": "code",
   "execution_count": 11,
   "metadata": {
    "scrolled": true
   },
   "outputs": [
    {
     "name": "stdout",
     "output_type": "stream",
     "text": [
      "{'max_depth': 10, 'min_samples_leaf': 1, 'n_estimators': 18}\n"
     ]
    }
   ],
   "source": [
    "rfc = RandomForestClassifier(n_jobs=-1, max_features='sqrt')\n",
    "param_grid = {\n",
    "                \"n_estimators\" : [9, 18, 27],\n",
    "                \"max_depth\" : [1, 5, 10],\n",
    "                \"min_samples_leaf\" : [1, 2, 4]}\n",
    "                \n",
    "CV_rfc = GridSearchCV(estimator=rfc, param_grid=param_grid, cv=10)\n",
    "CV_rfc.fit(x_trn_n, y_trn)\n",
    "print(CV_rfc.best_params_)"
   ]
  },
  {
   "cell_type": "code",
   "execution_count": 19,
   "metadata": {},
   "outputs": [
    {
     "name": "stdout",
     "output_type": "stream",
     "text": [
      "Random forest accuracy: 0.902%\n"
     ]
    }
   ],
   "source": [
    "_max_depth = CV_rfc.best_params_['max_depth']\n",
    "_min_samples_leaf = CV_rfc.best_params_['min_samples_leaf']\n",
    "_n_estimators = CV_rfc.best_params_['n_estimators']\n",
    "rfcs = RandomForestClassifier(max_depth=_max_depth, \n",
    "                              min_samples_leaf=_min_samples_leaf, \n",
    "                              n_estimators=_n_estimators, \n",
    "                              max_features='sqrt')\n",
    "model=clf.fit(x_trn_n,y_trn)\n",
    "y_pred=model.predict(x_tst_n)\n",
    "acc2=float((y_pred==y_tst).sum())/float(len(y_tst))\n",
    "print(\"Random forest accuracy: {0:.3f}%\".format(acc2))"
   ]
  },
  {
   "cell_type": "code",
   "execution_count": null,
   "metadata": {},
   "outputs": [],
   "source": []
  },
  {
   "cell_type": "code",
   "execution_count": null,
   "metadata": {},
   "outputs": [],
   "source": []
  }
 ],
 "metadata": {
  "kernelspec": {
   "display_name": "Python 3",
   "language": "python",
   "name": "python3"
  },
  "language_info": {
   "codemirror_mode": {
    "name": "ipython",
    "version": 3
   },
   "file_extension": ".py",
   "mimetype": "text/x-python",
   "name": "python",
   "nbconvert_exporter": "python",
   "pygments_lexer": "ipython3",
   "version": "3.6.5"
  }
 },
 "nbformat": 4,
 "nbformat_minor": 2
}
